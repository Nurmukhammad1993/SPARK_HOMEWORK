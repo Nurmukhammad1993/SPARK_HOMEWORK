{
 "cells": [
  {
   "cell_type": "code",
   "execution_count": 59,
   "metadata": {
    "collapsed": true,
    "ExecuteTime": {
     "start_time": "2023-05-01T21:22:48.974682Z",
     "end_time": "2023-05-01T21:22:48.991682Z"
    }
   },
   "outputs": [],
   "source": [
    "import pandas as pd\n",
    "from pyspark.sql import SparkSession\n",
    "from pyspark.sql.functions import *\n",
    "import requests\n",
    "from pyspark.sql.types import *\n",
    "import time\n",
    "from opencage.geocoder import OpenCageGeocode\n",
    "import geohash2 as gh\n",
    "import zipfile\n",
    "import os"
   ]
  },
  {
   "cell_type": "markdown",
   "source": [
    "# Create a SparkSession"
   ],
   "metadata": {
    "collapsed": false
   }
  },
  {
   "cell_type": "code",
   "execution_count": 60,
   "outputs": [],
   "source": [
    "    # Create a SparkSession\n",
    "spark = SparkSession.builder \\\n",
    "    .appName(\"Local ETL Job\") \\\n",
    "    .master(\"local[*]\") \\\n",
    "    .config(\"spark.executor.memory\", \"8g\") \\\n",
    "    .config(\"spark.driver.memory\", \"8g\") \\\n",
    "    .getOrCreate()"
   ],
   "metadata": {
    "collapsed": false,
    "ExecuteTime": {
     "start_time": "2023-05-01T21:22:49.290975Z",
     "end_time": "2023-05-01T21:22:49.318973Z"
    }
   }
  },
  {
   "cell_type": "code",
   "execution_count": 61,
   "outputs": [
    {
     "data": {
      "text/plain": "<pyspark.sql.session.SparkSession at 0x17fae353e20>",
      "text/html": "\n            <div>\n                <p><b>SparkSession - in-memory</b></p>\n                \n        <div>\n            <p><b>SparkContext</b></p>\n\n            <p><a href=\"http://DESKTOP-T8MP7TH:4040\">Spark UI</a></p>\n\n            <dl>\n              <dt>Version</dt>\n                <dd><code>v3.2.4</code></dd>\n              <dt>Master</dt>\n                <dd><code>local[*]</code></dd>\n              <dt>AppName</dt>\n                <dd><code>Local ETL Job</code></dd>\n            </dl>\n        </div>\n        \n            </div>\n        "
     },
     "execution_count": 61,
     "metadata": {},
     "output_type": "execute_result"
    }
   ],
   "source": [
    "spark"
   ],
   "metadata": {
    "collapsed": false,
    "ExecuteTime": {
     "start_time": "2023-05-01T21:22:50.588976Z",
     "end_time": "2023-05-01T21:22:50.645976Z"
    }
   }
  },
  {
   "cell_type": "markdown",
   "source": [
    "# 1. Restaurant data"
   ],
   "metadata": {
    "collapsed": false
   }
  },
  {
   "cell_type": "code",
   "execution_count": 4,
   "outputs": [
    {
     "name": "stdout",
     "output_type": "stream",
     "text": [
      "+------------+------------+--------------------+-----------------------+-------+--------------+------+--------+\n",
      "|          id|franchise_id|      franchise_name|restaurant_franchise_id|country|          city|   lat|     lng|\n",
      "+------------+------------+--------------------+-----------------------+-------+--------------+------+--------+\n",
      "|197568495625|          10|    The Golden Spoon|                  24784|     US|       Decatur|34.578| -87.021|\n",
      "| 17179869242|          59|         Azalea Cafe|                  10902|     FR|         Paris|48.861|   2.368|\n",
      "|214748364826|          27|     The Corner Cafe|                  92040|     US|    Rapid City|44.080|-103.250|\n",
      "|154618822706|          51|        The Pizzeria|                  41484|     AT|        Vienna|48.213|  16.413|\n",
      "|163208757312|          65|       Chef's Corner|                  96638|     GB|        London|51.495|  -0.191|\n",
      "| 68719476763|          28|    The Spicy Pickle|                  77517|     US|      Grayling|44.657| -84.744|\n",
      "|223338299419|          28|    The Spicy Pickle|                  36937|     US|        Oswego|43.452| -76.532|\n",
      "|240518168650|          75|     Greenhouse Cafe|                  93164|     NL|     Amsterdam|52.370|   4.897|\n",
      "|128849018936|          57|The Yellow Submarine|                   5679|     FR|         Paris|48.872|   2.335|\n",
      "|197568495635|          20|       The Brasserie|                  24784|     US|Jeffersonville|39.616| -83.612|\n",
      "| 68719476768|          33|   The Blue Elephant|                  77517|     IT|         Milan|45.479|   9.146|\n",
      "| 51539607582|          31|           Bistro 42|                   6934|     IT|         Milan|45.444|   9.153|\n",
      "| 94489280554|          43|      The Food House|                  95399|     FR|         Paris|48.867|   2.329|\n",
      "|206158430215|           8|     The Green Olive|                  53370|     US|   Haltom City|32.789| -97.280|\n",
      "|154618822657|           2|        Bella Cucina|                  41484|     US|   Fort Pierce|27.412| -80.391|\n",
      "| 17179869217|          34|     The Tasty Treat|                  10902|     US|     Green Bay|44.476| -88.077|\n",
      "|  8589934633|          42|     The Daily Scoop|                  12630|     FR|         Paris|48.854|   2.343|\n",
      "|240518168596|          21|      The Lazy Daisy|                  93164|     US|    Mendenhall|39.860| -75.646|\n",
      "|171798691906|          67|  Crimson and Clover|                  65939|     NL|     Amsterdam|52.361|   4.894|\n",
      "| 42949673022|          63|          Cafe Paris|                  89646|     GB|        London|51.508|  -0.107|\n",
      "+------------+------------+--------------------+-----------------------+-------+--------------+------+--------+\n",
      "only showing top 20 rows\n",
      "\n"
     ]
    }
   ],
   "source": [
    "path = 'restaurant_csv'\n",
    "df = spark.read.option(\"mergeSchema\", \"true\").option(\"recursiveFileLookup\", \"true\").option(\"header\", \"true\").csv(path)\n",
    "df.show()"
   ],
   "metadata": {
    "collapsed": false,
    "ExecuteTime": {
     "start_time": "2023-05-01T17:28:31.478190Z",
     "end_time": "2023-05-01T17:28:36.372442Z"
    }
   }
  },
  {
   "cell_type": "code",
   "execution_count": 5,
   "outputs": [
    {
     "data": {
      "text/plain": "1997"
     },
     "execution_count": 5,
     "metadata": {},
     "output_type": "execute_result"
    }
   ],
   "source": [
    "df.count()"
   ],
   "metadata": {
    "collapsed": false,
    "ExecuteTime": {
     "start_time": "2023-05-01T17:28:36.374442Z",
     "end_time": "2023-05-01T17:28:37.141445Z"
    }
   }
  },
  {
   "cell_type": "code",
   "execution_count": 6,
   "outputs": [
    {
     "name": "stdout",
     "output_type": "stream",
     "text": [
      "+-----------+------------+--------------+-----------------------+-------+------+----+----+\n",
      "|         id|franchise_id|franchise_name|restaurant_franchise_id|country|  city| lat| lng|\n",
      "+-----------+------------+--------------+-----------------------+-------+------+----+----+\n",
      "|85899345920|           1|       Savoria|                  18952|     US|Dillon|null|null|\n",
      "+-----------+------------+--------------+-----------------------+-------+------+----+----+\n",
      "\n"
     ]
    }
   ],
   "source": [
    "#show where lat or lng is null\n",
    "df.select(\"*\").where(col(\"lat\").isNull() | col(\"lng\").isNull()).show()"
   ],
   "metadata": {
    "collapsed": false,
    "ExecuteTime": {
     "start_time": "2023-05-01T17:28:37.139440Z",
     "end_time": "2023-05-01T17:28:37.407441Z"
    }
   }
  },
  {
   "cell_type": "code",
   "execution_count": 7,
   "outputs": [],
   "source": [
    "# define a UDF to call OpenCage Geocoding API and retrieve latitude and longitude values\n",
    "def geocode(city, country):\n",
    "    geocoder = OpenCageGeocode('7397d2a67a214bbbbd50f3ca1cfd164e')\n",
    "    query = city + ', ' + country\n",
    "    results = geocoder.geocode(query)\n",
    "    if results and 'geometry' in results[0]:\n",
    "        lat = results[0]['geometry']['lat']\n",
    "        lng = results[0]['geometry']['lng']\n",
    "        return [lat, lng]\n",
    "    else:\n",
    "        return None\n",
    "geocode_udf = udf(geocode, ArrayType(FloatType()))\n"
   ],
   "metadata": {
    "collapsed": false,
    "ExecuteTime": {
     "start_time": "2023-05-01T17:28:37.412440Z",
     "end_time": "2023-05-01T17:28:37.470441Z"
    }
   }
  },
  {
   "cell_type": "code",
   "execution_count": 8,
   "outputs": [
    {
     "name": "stdout",
     "output_type": "stream",
     "text": [
      "+-----------+------------+--------------+-----------------------+-------+------+----+----+\n",
      "|         id|franchise_id|franchise_name|restaurant_franchise_id|country|  city| lat| lng|\n",
      "+-----------+------------+--------------+-----------------------+-------+------+----+----+\n",
      "|85899345920|           1|       Savoria|                  18952|     US|Dillon|null|null|\n",
      "+-----------+------------+--------------+-----------------------+-------+------+----+----+\n",
      "\n"
     ]
    }
   ],
   "source": [
    "# create a new dataframe with rows where lat or lng is null\n",
    "df_null = df.filter(df['lat'].isNull() | df['lng'].isNull())\n",
    "df_null.show()"
   ],
   "metadata": {
    "collapsed": false
   }
  },
  {
   "cell_type": "code",
   "execution_count": 9,
   "outputs": [],
   "source": [
    "# apply the geocode UDF to the new dataframe\n",
    "df_null = df_null.withColumn('lat_lng', geocode_udf(df_null['city'], df_null['country']))\n",
    "\n",
    "# update the original dataframe with the geocoded values\n",
    "df = df.join(df_null.select('id', 'lat_lng'), 'id', 'left_outer') \\\n",
    "    .withColumn('lat', when(df['lat'].isNull(), df_null['lat_lng'][0]).otherwise(df['lat'])) \\\n",
    "    .withColumn('lng', when(df['lng'].isNull(), df_null['lat_lng'][1]).otherwise(df['lng'])) \\\n",
    "    .drop('lat_lng')\n"
   ],
   "metadata": {
    "collapsed": false,
    "ExecuteTime": {
     "start_time": "2023-05-01T17:28:37.728441Z",
     "end_time": "2023-05-01T17:28:38.090443Z"
    }
   }
  },
  {
   "cell_type": "code",
   "execution_count": 11,
   "outputs": [
    {
     "name": "stdout",
     "output_type": "stream",
     "text": [
      "+---+------------+--------------+-----------------------+-------+----+---+---+\n",
      "| id|franchise_id|franchise_name|restaurant_franchise_id|country|city|lat|lng|\n",
      "+---+------------+--------------+-----------------------+-------+----+---+---+\n",
      "+---+------------+--------------+-----------------------+-------+----+---+---+\n",
      "\n"
     ]
    }
   ],
   "source": [
    "# create a new dataframe with rows where lat or lng is null\n",
    "df_null = df.filter(df['lat'].isNull() | df['lng'].isNull())\n",
    "df_null.show()"
   ],
   "metadata": {
    "collapsed": false,
    "ExecuteTime": {
     "start_time": "2023-05-01T17:28:43.044935Z",
     "end_time": "2023-05-01T17:28:47.606981Z"
    }
   }
  },
  {
   "cell_type": "code",
   "execution_count": 12,
   "outputs": [],
   "source": [
    "#save in csv\n",
    "df.write.csv('restaurant_geocoded.csv', header=True, mode='overwrite')"
   ],
   "metadata": {
    "collapsed": false,
    "ExecuteTime": {
     "start_time": "2023-05-01T17:28:47.607979Z",
     "end_time": "2023-05-01T17:28:51.840495Z"
    }
   }
  },
  {
   "cell_type": "code",
   "execution_count": 13,
   "outputs": [],
   "source": [
    "# read the geocoded dataframe from csv using the defined schema\n",
    "df_geocoded = spark.read.csv(\"restaurant_geocoded.csv\", header=True)"
   ],
   "metadata": {
    "collapsed": false,
    "ExecuteTime": {
     "start_time": "2023-05-01T17:28:51.842494Z",
     "end_time": "2023-05-01T17:28:52.058493Z"
    }
   }
  },
  {
   "cell_type": "code",
   "execution_count": 15,
   "outputs": [],
   "source": [
    "# change the type of the lat and lng columns to float\n",
    "df_geocoded = df_geocoded.withColumn('lat', df_geocoded['lat'].cast(FloatType())) \\\n",
    "    .withColumn('lng', df_geocoded['lng'].cast(FloatType()))"
   ],
   "metadata": {
    "collapsed": false,
    "ExecuteTime": {
     "start_time": "2023-05-01T17:28:52.199495Z",
     "end_time": "2023-05-01T17:28:52.273493Z"
    }
   }
  },
  {
   "cell_type": "code",
   "execution_count": 16,
   "outputs": [],
   "source": [
    "# define a UDF to generate a geohash from latitude and longitude values\n",
    "def geohash(lat, lng):\n",
    "    return gh.encode(lat, lng, precision=4)\n",
    "geohash_udf = udf(geohash)"
   ],
   "metadata": {
    "collapsed": false,
    "ExecuteTime": {
     "start_time": "2023-05-01T17:28:52.263493Z",
     "end_time": "2023-05-01T17:28:52.296494Z"
    }
   }
  },
  {
   "cell_type": "code",
   "execution_count": 17,
   "outputs": [],
   "source": [
    "# add a new column with the geohash values to the dataframe\n",
    "df_geocoded = df_geocoded.withColumn('geohash', geohash_udf(df_geocoded['lat'], df_geocoded['lng']))"
   ],
   "metadata": {
    "collapsed": false,
    "ExecuteTime": {
     "start_time": "2023-05-01T17:28:54.413474Z",
     "end_time": "2023-05-01T17:28:54.440472Z"
    }
   }
  },
  {
   "cell_type": "code",
   "execution_count": 19,
   "outputs": [
    {
     "name": "stdout",
     "output_type": "stream",
     "text": [
      "+-----------+------------+--------------+-----------------------+-------+------+--------+---------+-------+\n",
      "|         id|franchise_id|franchise_name|restaurant_franchise_id|country|  city|     lat|      lng|geohash|\n",
      "+-----------+------------+--------------+-----------------------+-------+------+--------+---------+-------+\n",
      "|85899345920|           1|       Savoria|                  18952|     US|Dillon|34.40141|-79.38644|   dnpe|\n",
      "+-----------+------------+--------------+-----------------------+-------+------+--------+---------+-------+\n",
      "\n"
     ]
    }
   ],
   "source": [
    "df_geocoded.where(\"id = 85899345920\").show()"
   ],
   "metadata": {
    "collapsed": false,
    "ExecuteTime": {
     "start_time": "2023-05-01T17:28:56.047521Z",
     "end_time": "2023-05-01T17:28:59.621765Z"
    }
   }
  },
  {
   "cell_type": "markdown",
   "source": [
    "# 2. Weather data"
   ],
   "metadata": {
    "collapsed": false
   }
  },
  {
   "cell_type": "code",
   "execution_count": 20,
   "outputs": [],
   "source": [
    "path = 'weather_dataset'\n",
    "weather_df = spark.read.option(\"mergeSchema\", \"true\").option(\"recursiveFileLookup\", \"true\").parquet(path)"
   ],
   "metadata": {
    "collapsed": false,
    "ExecuteTime": {
     "start_time": "2023-05-01T17:43:28.024667Z",
     "end_time": "2023-05-01T17:43:29.138669Z"
    }
   }
  },
  {
   "cell_type": "code",
   "execution_count": 21,
   "outputs": [
    {
     "name": "stdout",
     "output_type": "stream",
     "text": [
      "+--------+-------+----------+----------+----------+\n",
      "|     lng|    lat|avg_tmpr_f|avg_tmpr_c| wthr_date|\n",
      "+--------+-------+----------+----------+----------+\n",
      "| -111.09|18.6251|      80.7|      27.1|2017-08-29|\n",
      "|-111.042|18.6305|      80.7|      27.1|2017-08-29|\n",
      "|-110.995|18.6358|      80.7|      27.1|2017-08-29|\n",
      "|-110.947|18.6412|      80.9|      27.2|2017-08-29|\n",
      "|  -110.9|18.6465|      80.9|      27.2|2017-08-29|\n",
      "|-110.852|18.6518|      80.9|      27.2|2017-08-29|\n",
      "|-110.804|18.6571|      80.9|      27.2|2017-08-29|\n",
      "|-105.068|19.1765|      82.4|      28.0|2017-08-29|\n",
      "| -105.02|19.1799|      82.0|      27.8|2017-08-29|\n",
      "|-104.972|19.1832|      82.0|      27.8|2017-08-29|\n",
      "|-104.924|19.1866|      82.0|      27.8|2017-08-29|\n",
      "|-104.876|19.1899|      82.0|      27.8|2017-08-29|\n",
      "|-104.828|19.1932|      81.6|      27.6|2017-08-29|\n",
      "| -104.78|19.1964|      81.6|      27.6|2017-08-29|\n",
      "|-104.732|19.1997|      81.6|      27.6|2017-08-29|\n",
      "|-104.684| 19.203|      77.8|      25.4|2017-08-29|\n",
      "|-104.636|19.2062|      77.8|      25.4|2017-08-29|\n",
      "|-104.588|19.2094|      75.2|      24.0|2017-08-29|\n",
      "| -104.54|19.2126|      75.2|      24.0|2017-08-29|\n",
      "|-104.492|19.2158|      75.2|      24.0|2017-08-29|\n",
      "+--------+-------+----------+----------+----------+\n",
      "only showing top 20 rows\n",
      "\n"
     ]
    }
   ],
   "source": [
    "weather_df.show()"
   ],
   "metadata": {
    "collapsed": false,
    "ExecuteTime": {
     "start_time": "2023-05-01T17:43:29.795198Z",
     "end_time": "2023-05-01T17:43:30.301197Z"
    }
   }
  },
  {
   "cell_type": "code",
   "execution_count": 22,
   "outputs": [
    {
     "data": {
      "text/plain": "112394743"
     },
     "execution_count": 22,
     "metadata": {},
     "output_type": "execute_result"
    }
   ],
   "source": [
    "weather_df.count()"
   ],
   "metadata": {
    "collapsed": false,
    "ExecuteTime": {
     "start_time": "2023-05-01T17:43:31.183195Z",
     "end_time": "2023-05-01T17:43:31.824200Z"
    }
   }
  },
  {
   "cell_type": "code",
   "execution_count": 23,
   "outputs": [],
   "source": [
    "# add a new column with the geohash values to the dataframe\n",
    "weather_df = weather_df.withColumn('geohash', geohash_udf(weather_df['lat'], weather_df['lng']))"
   ],
   "metadata": {
    "collapsed": false,
    "ExecuteTime": {
     "start_time": "2023-05-01T17:43:58.686579Z",
     "end_time": "2023-05-01T17:43:58.696576Z"
    }
   }
  },
  {
   "cell_type": "code",
   "execution_count": 24,
   "outputs": [
    {
     "name": "stdout",
     "output_type": "stream",
     "text": [
      "+--------+-------+----------+----------+----------+-------+\n",
      "|     lng|    lat|avg_tmpr_f|avg_tmpr_c| wthr_date|geohash|\n",
      "+--------+-------+----------+----------+----------+-------+\n",
      "| -111.09|18.6251|      80.7|      27.1|2017-08-29|   9e31|\n",
      "|-111.042|18.6305|      80.7|      27.1|2017-08-29|   9e31|\n",
      "|-110.995|18.6358|      80.7|      27.1|2017-08-29|   9e34|\n",
      "|-110.947|18.6412|      80.9|      27.2|2017-08-29|   9e34|\n",
      "|  -110.9|18.6465|      80.9|      27.2|2017-08-29|   9e34|\n",
      "|-110.852|18.6518|      80.9|      27.2|2017-08-29|   9e34|\n",
      "|-110.804|18.6571|      80.9|      27.2|2017-08-29|   9e34|\n",
      "|-105.068|19.1765|      82.4|      28.0|2017-08-29|   9emm|\n",
      "| -105.02|19.1799|      82.0|      27.8|2017-08-29|   9emm|\n",
      "|-104.972|19.1832|      82.0|      27.8|2017-08-29|   9emm|\n",
      "|-104.924|19.1866|      82.0|      27.8|2017-08-29|   9emm|\n",
      "|-104.876|19.1899|      82.0|      27.8|2017-08-29|   9emm|\n",
      "|-104.828|19.1932|      81.6|      27.6|2017-08-29|   9emm|\n",
      "| -104.78|19.1964|      81.6|      27.6|2017-08-29|   9emm|\n",
      "|-104.732|19.1997|      81.6|      27.6|2017-08-29|   9emt|\n",
      "|-104.684| 19.203|      77.8|      25.4|2017-08-29|   9emt|\n",
      "|-104.636|19.2062|      77.8|      25.4|2017-08-29|   9emt|\n",
      "|-104.588|19.2094|      75.2|      24.0|2017-08-29|   9emt|\n",
      "| -104.54|19.2126|      75.2|      24.0|2017-08-29|   9emt|\n",
      "|-104.492|19.2158|      75.2|      24.0|2017-08-29|   9emt|\n",
      "+--------+-------+----------+----------+----------+-------+\n",
      "only showing top 20 rows\n",
      "\n"
     ]
    }
   ],
   "source": [
    "weather_df.show()"
   ],
   "metadata": {
    "collapsed": false,
    "ExecuteTime": {
     "start_time": "2023-05-01T17:44:09.530918Z",
     "end_time": "2023-05-01T17:44:10.531442Z"
    }
   }
  },
  {
   "cell_type": "code",
   "execution_count": 25,
   "outputs": [
    {
     "name": "stdout",
     "output_type": "stream",
     "text": [
      "+----------+-------+-----+\n",
      "| wthr_date|geohash|count|\n",
      "+----------+-------+-----+\n",
      "|2017-08-29|   9eqv|    8|\n",
      "|2017-08-29|   9g6q|    7|\n",
      "|2017-08-29|   9etf|   30|\n",
      "|2017-08-29|   d58h|   29|\n",
      "|2017-08-29|   d5zm|   26|\n",
      "|2017-08-29|   9sp1|   26|\n",
      "|2017-08-29|   9u38|   25|\n",
      "|2017-08-29|   9sre|   26|\n",
      "|2017-08-29|   9st3|   27|\n",
      "|2017-08-29|   9swd|   28|\n",
      "|2017-08-29|   dhvf|   27|\n",
      "|2017-08-29|   9tj1|   27|\n",
      "|2017-08-29|   9mpj|   27|\n",
      "|2017-08-29|   9vmm|   28|\n",
      "|2017-08-29|   9v80|   24|\n",
      "|2017-08-29|   9mm9|   23|\n",
      "|2017-08-29|   9vtf|   28|\n",
      "|2017-08-29|   9ves|   24|\n",
      "|2017-08-29|   9mrx|   25|\n",
      "|2017-08-29|   9vv6|   18|\n",
      "+----------+-------+-----+\n",
      "only showing top 20 rows\n",
      "\n"
     ]
    }
   ],
   "source": [
    "#show where geohash and wthr_date together duplicate\n",
    "weather_df.groupBy('wthr_date', 'geohash').count().where('count > 1').show()"
   ],
   "metadata": {
    "collapsed": false,
    "ExecuteTime": {
     "start_time": "2023-05-01T17:44:39.519782Z",
     "end_time": "2023-05-01T17:49:31.865404Z"
    }
   }
  },
  {
   "cell_type": "code",
   "execution_count": 26,
   "outputs": [],
   "source": [
    "#drop rows where geohash and wthr_date together duplicate\n",
    "weather_df = weather_df.dropDuplicates(['wthr_date', 'geohash'])"
   ],
   "metadata": {
    "collapsed": false,
    "ExecuteTime": {
     "start_time": "2023-05-01T17:50:27.751036Z",
     "end_time": "2023-05-01T17:50:27.767035Z"
    }
   }
  },
  {
   "cell_type": "code",
   "execution_count": 27,
   "outputs": [
    {
     "name": "stdout",
     "output_type": "stream",
     "text": [
      "+---------+-------+-----+\n",
      "|wthr_date|geohash|count|\n",
      "+---------+-------+-----+\n",
      "+---------+-------+-----+\n",
      "\n"
     ]
    }
   ],
   "source": [
    "weather_df.groupBy('wthr_date', 'geohash').count().where('count > 1').show()"
   ],
   "metadata": {
    "collapsed": false,
    "ExecuteTime": {
     "start_time": "2023-05-01T17:50:45.953275Z",
     "end_time": "2023-05-01T17:55:42.496683Z"
    }
   }
  },
  {
   "cell_type": "code",
   "execution_count": 28,
   "outputs": [
    {
     "data": {
      "text/plain": "31882677"
     },
     "execution_count": 28,
     "metadata": {},
     "output_type": "execute_result"
    }
   ],
   "source": [
    "#get the size of the dataframe\n",
    "weather_df.count()"
   ],
   "metadata": {
    "collapsed": false,
    "ExecuteTime": {
     "start_time": "2023-05-01T17:56:05.541147Z",
     "end_time": "2023-05-01T18:00:48.836314Z"
    }
   }
  },
  {
   "cell_type": "code",
   "execution_count": 29,
   "outputs": [],
   "source": [
    "# rename lat and lng columns to avoid ambiguity\n",
    "weather_df = weather_df.withColumnRenamed('lat', 'lat_weather') \\\n",
    "    .withColumnRenamed('lng', 'lng_weather')"
   ],
   "metadata": {
    "collapsed": false,
    "ExecuteTime": {
     "start_time": "2023-05-01T18:56:51.976774Z",
     "end_time": "2023-05-01T18:56:51.995749Z"
    }
   }
  },
  {
   "cell_type": "code",
   "execution_count": null,
   "outputs": [],
   "source": [
    "#save in parquet\n",
    "weather_df.write.parquet('weather_cleaned_from_duplicates.parquet', mode='overwrite')"
   ],
   "metadata": {
    "collapsed": false
   }
  },
  {
   "cell_type": "code",
   "execution_count": 31,
   "outputs": [],
   "source": [
    "# read the cleaned weather dataframe from parquet\n",
    "weather_df = spark.read.parquet(\"weather_cleaned_from_duplicates.parquet\")"
   ],
   "metadata": {
    "collapsed": false,
    "ExecuteTime": {
     "start_time": "2023-05-01T19:52:04.178815Z",
     "end_time": "2023-05-01T19:52:04.329813Z"
    }
   }
  },
  {
   "cell_type": "code",
   "execution_count": 34,
   "outputs": [
    {
     "name": "stdout",
     "output_type": "stream",
     "text": [
      "+-----------+-----------+----------+----------+----------+-------+\n",
      "|lng_weather|lat_weather|avg_tmpr_f|avg_tmpr_c| wthr_date|geohash|\n",
      "+-----------+-----------+----------+----------+----------+-------+\n",
      "|   -101.238|    19.7128|      61.0|      16.1|2017-08-29|   9g80|\n",
      "|   -71.6781|    18.4932|      78.7|      25.9|2017-08-29|   d7m1|\n",
      "|   -104.629|    20.3924|      63.3|      17.4|2017-08-29|   9ets|\n",
      "|   -88.2381|    20.6006|      82.5|      28.1|2017-08-29|   d59m|\n",
      "|   -73.4394|    19.5544|      85.6|      29.8|2017-08-29|   d77z|\n",
      "|   -81.2557|    25.1487|      84.3|      29.1|2017-08-29|   dhqp|\n",
      "|   -101.569|    27.0982|      82.1|      27.8|2017-08-29|   9szf|\n",
      "|    -110.47|    27.0939|      89.0|      31.7|2017-08-29|   9sc6|\n",
      "|   -112.818|    27.2501|      89.6|      32.0|2017-08-29|   9kzg|\n",
      "|    -103.66|    28.3193|      71.7|      22.1|2017-08-29|   9tn3|\n",
      "|   -105.114|    28.3219|      73.8|      23.2|2017-08-29|   9tj3|\n",
      "|   -102.302|    29.0287|      70.9|      21.6|2017-08-29|   9tpm|\n",
      "|   -81.8899|    28.6907|      77.3|      25.2|2017-08-29|   djjg|\n",
      "|   -92.0686|    29.7195|      82.7|      28.2|2017-08-29|   9vq9|\n",
      "|   -81.2063|    29.1807|      78.0|      25.6|2017-08-29|   djnq|\n",
      "|   -101.926|      29.73|      80.1|      26.7|2017-08-29|   9tr9|\n",
      "|   -83.9861|    30.2706|      78.0|      25.6|2017-08-29|   djkk|\n",
      "|   -95.2684|    30.7928|      70.6|      21.4|2017-08-29|   9vkr|\n",
      "|   -84.6973|    30.5926|      75.9|      24.4|2017-08-29|   dj7y|\n",
      "|   -94.5264|    31.1557|      69.4|      20.8|2017-08-29|   9vsc|\n",
      "+-----------+-----------+----------+----------+----------+-------+\n",
      "only showing top 20 rows\n",
      "\n"
     ]
    }
   ],
   "source": [
    "weather_df.show()"
   ],
   "metadata": {
    "collapsed": false,
    "ExecuteTime": {
     "start_time": "2023-05-01T19:52:58.611085Z",
     "end_time": "2023-05-01T19:52:58.804086Z"
    }
   }
  },
  {
   "cell_type": "code",
   "execution_count": 36,
   "outputs": [
    {
     "name": "stdout",
     "output_type": "stream",
     "text": [
      "+-------+-----+\n",
      "|geohash|count|\n",
      "+-------+-----+\n",
      "|   dq3v|   92|\n",
      "|   9qve|   92|\n",
      "|   9y03|   92|\n",
      "|   9y1v|   92|\n",
      "|   drkj|   92|\n",
      "|   9vtm|   92|\n",
      "|   f0k0|   92|\n",
      "|   dnsx|   92|\n",
      "|   9q7g|   92|\n",
      "|   c21v|   92|\n",
      "|   9ru6|   92|\n",
      "|   9yuh|   92|\n",
      "|   9yhq|   92|\n",
      "|   cbkb|   92|\n",
      "|   f09w|   92|\n",
      "|   dp78|   92|\n",
      "|   9tsv|   92|\n",
      "|   dq0g|   92|\n",
      "|   d580|   92|\n",
      "|   f01x|   92|\n",
      "+-------+-----+\n",
      "only showing top 20 rows\n",
      "\n"
     ]
    }
   ],
   "source": [
    "weather_df.groupBy('geohash').count().where('count > 1').show()"
   ],
   "metadata": {
    "collapsed": false,
    "ExecuteTime": {
     "start_time": "2023-05-01T19:54:09.342392Z",
     "end_time": "2023-05-01T19:54:20.541920Z"
    }
   }
  },
  {
   "cell_type": "code",
   "execution_count": 39,
   "outputs": [],
   "source": [
    "#drop lng_weather and lat_weather\n",
    "weather_df = weather_df.drop('lng_weather', 'lat_weather')"
   ],
   "metadata": {
    "collapsed": false,
    "ExecuteTime": {
     "start_time": "2023-05-01T19:56:00.248126Z",
     "end_time": "2023-05-01T19:56:00.280128Z"
    }
   }
  },
  {
   "cell_type": "markdown",
   "source": [
    "# Join df_geocoded and weather_df"
   ],
   "metadata": {
    "collapsed": false
   }
  },
  {
   "cell_type": "code",
   "execution_count": 82,
   "outputs": [],
   "source": [
    "# Left-join weather and restaurant_geocoded data using the four-character geohash. Make sure to avoid data multiplication and keep your job idempotent\n",
    "df_joined = df_geocoded.join(weather_df, 'geohash', 'left_outer')"
   ],
   "metadata": {
    "collapsed": false,
    "ExecuteTime": {
     "start_time": "2023-05-01T22:09:07.649679Z",
     "end_time": "2023-05-01T22:09:07.660680Z"
    }
   }
  },
  {
   "cell_type": "code",
   "execution_count": 83,
   "outputs": [
    {
     "name": "stdout",
     "output_type": "stream",
     "text": [
      "+-------+------------+------------+--------------+-----------------------+-------+-------+------+-------+----------+----------+----------+\n",
      "|geohash|          id|franchise_id|franchise_name|restaurant_franchise_id|country|   city|   lat|    lng|avg_tmpr_f|avg_tmpr_c| wthr_date|\n",
      "+-------+------------+------------+--------------+-----------------------+-------+-------+------+-------+----------+----------+----------+\n",
      "|   9yt8|120259084300|          13| The Firehouse|                  59829|     US|Branson|36.633|-93.272|      72.9|      22.7|2017-08-28|\n",
      "|   9yt8|120259084300|          13| The Firehouse|                  59829|     US|Branson|36.633|-93.272|      78.5|      25.8|2017-08-19|\n",
      "|   9yt8|120259084300|          13| The Firehouse|                  59829|     US|Branson|36.633|-93.272|      57.5|      14.2|2016-10-20|\n",
      "|   9yt8|120259084300|          13| The Firehouse|                  59829|     US|Branson|36.633|-93.272|      72.6|      22.6|2016-10-19|\n",
      "|   9yt8|120259084300|          13| The Firehouse|                  59829|     US|Branson|36.633|-93.272|      76.3|      24.6|2017-09-03|\n",
      "|   9yt8|120259084300|          13| The Firehouse|                  59829|     US|Branson|36.633|-93.272|      71.2|      21.8|2017-08-04|\n",
      "|   9yt8|120259084300|          13| The Firehouse|                  59829|     US|Branson|36.633|-93.272|      64.8|      18.2|2016-10-25|\n",
      "|   9yt8|120259084300|          13| The Firehouse|                  59829|     US|Branson|36.633|-93.272|      73.7|      23.2|2017-08-01|\n",
      "|   9yt8|120259084300|          13| The Firehouse|                  59829|     US|Branson|36.633|-93.272|      80.3|      26.8|2017-08-21|\n",
      "|   9yt8|120259084300|          13| The Firehouse|                  59829|     US|Branson|36.633|-93.272|      63.7|      17.6|2017-09-06|\n",
      "|   9yt8|120259084300|          13| The Firehouse|                  59829|     US|Branson|36.633|-93.272|      78.5|      25.8|2017-09-22|\n",
      "|   9yt8|120259084300|          13| The Firehouse|                  59829|     US|Branson|36.633|-93.272|      71.7|      22.1|2017-09-14|\n",
      "|   9yt8|120259084300|          13| The Firehouse|                  59829|     US|Branson|36.633|-93.272|      69.5|      20.8|2017-08-06|\n",
      "|   9yt8|120259084300|          13| The Firehouse|                  59829|     US|Branson|36.633|-93.272|      76.3|      24.6|2017-09-19|\n",
      "|   9yt8|120259084300|          13| The Firehouse|                  59829|     US|Branson|36.633|-93.272|      69.9|      21.1|2017-08-05|\n",
      "|   9yt8|120259084300|          13| The Firehouse|                  59829|     US|Branson|36.633|-93.272|      67.8|      19.9|2017-09-28|\n",
      "|   9yt8|120259084300|          13| The Firehouse|                  59829|     US|Branson|36.633|-93.272|      68.7|      20.4|2017-08-13|\n",
      "|   9yt8|120259084300|          13| The Firehouse|                  59829|     US|Branson|36.633|-93.272|      66.6|      19.2|2016-10-11|\n",
      "|   9yt8|120259084300|          13| The Firehouse|                  59829|     US|Branson|36.633|-93.272|      58.6|      14.8|2016-10-22|\n",
      "|   9yt8|120259084300|          13| The Firehouse|                  59829|     US|Branson|36.633|-93.272|      75.5|      24.2|2017-08-22|\n",
      "+-------+------------+------------+--------------+-----------------------+-------+-------+------+-------+----------+----------+----------+\n",
      "only showing top 20 rows\n",
      "\n"
     ]
    }
   ],
   "source": [
    "df_joined.show()"
   ],
   "metadata": {
    "collapsed": false,
    "ExecuteTime": {
     "start_time": "2023-05-01T22:09:08.106996Z",
     "end_time": "2023-05-01T22:09:24.526877Z"
    }
   }
  },
  {
   "cell_type": "code",
   "execution_count": 84,
   "outputs": [
    {
     "data": {
      "text/plain": "172591"
     },
     "execution_count": 84,
     "metadata": {},
     "output_type": "execute_result"
    }
   ],
   "source": [
    "df_joined.count()"
   ],
   "metadata": {
    "collapsed": false,
    "ExecuteTime": {
     "start_time": "2023-05-01T22:09:24.530880Z",
     "end_time": "2023-05-01T22:09:39.621776Z"
    }
   }
  },
  {
   "cell_type": "code",
   "execution_count": 85,
   "outputs": [
    {
     "data": {
      "text/plain": "122"
     },
     "execution_count": 85,
     "metadata": {},
     "output_type": "execute_result"
    }
   ],
   "source": [
    "#show where any column geohash, id,franchise_id,franchise_name,restaurant_franchise_id,country,city,lat,lng,avg_tmpr_f,avg_tmpr_c, wthr_date are null\n",
    "df_joined.where(df_joined['geohash'].isNull() | df_joined['id'].isNull() | df_joined['franchise_id'].isNull() | df_joined['franchise_name'].isNull() | df_joined['restaurant_franchise_id'].isNull() | df_joined['country'].isNull() | df_joined['city'].isNull() | df_joined['lat'].isNull() | df_joined['lng'].isNull() | df_joined['avg_tmpr_f'].isNull() | df_joined['avg_tmpr_c'].isNull() | df_joined['wthr_date'].isNull()).count()\n"
   ],
   "metadata": {
    "collapsed": false,
    "ExecuteTime": {
     "start_time": "2023-05-01T22:09:39.624777Z",
     "end_time": "2023-05-01T22:09:58.212361Z"
    }
   }
  },
  {
   "cell_type": "code",
   "execution_count": 86,
   "outputs": [],
   "source": [
    "#drop Nan values\n",
    "df_joined = df_joined.dropna()"
   ],
   "metadata": {
    "collapsed": false,
    "ExecuteTime": {
     "start_time": "2023-05-01T22:09:58.219358Z",
     "end_time": "2023-05-01T22:09:58.283358Z"
    }
   }
  },
  {
   "cell_type": "code",
   "execution_count": 87,
   "outputs": [
    {
     "data": {
      "text/plain": "0"
     },
     "execution_count": 87,
     "metadata": {},
     "output_type": "execute_result"
    }
   ],
   "source": [
    "#show where any column geohash, id,franchise_id,franchise_name,restaurant_franchise_id,country,city,lat,lng,avg_tmpr_f,avg_tmpr_c, wthr_date are null\n",
    "df_joined.where(df_joined['geohash'].isNull() | df_joined['id'].isNull() | df_joined['franchise_id'].isNull() | df_joined['franchise_name'].isNull() | df_joined['restaurant_franchise_id'].isNull() | df_joined['country'].isNull() | df_joined['city'].isNull() | df_joined['lat'].isNull() | df_joined['lng'].isNull() | df_joined['avg_tmpr_f'].isNull() | df_joined['avg_tmpr_c'].isNull() | df_joined['wthr_date'].isNull()).count()\n"
   ],
   "metadata": {
    "collapsed": false,
    "ExecuteTime": {
     "start_time": "2023-05-01T22:09:58.258360Z",
     "end_time": "2023-05-01T22:10:16.751191Z"
    }
   }
  },
  {
   "cell_type": "code",
   "execution_count": 88,
   "outputs": [
    {
     "name": "stdout",
     "output_type": "stream",
     "text": [
      "+----------+-------+-----+\n",
      "| wthr_date|geohash|count|\n",
      "+----------+-------+-----+\n",
      "|2017-08-21|   9wst|    3|\n",
      "|2017-08-20|   9wst|    3|\n",
      "|2017-08-01|   9wst|    3|\n",
      "|2017-08-11|   9wst|    3|\n",
      "|2016-10-14|   9wst|    3|\n",
      "|2016-10-20|   9wst|    3|\n",
      "|2017-09-09|   9wst|    3|\n",
      "|2017-09-25|   9wst|    3|\n",
      "|2017-08-17|   9wst|    3|\n",
      "|2017-09-19|   9wst|    3|\n",
      "|2016-10-09|   9wst|    3|\n",
      "|2016-10-30|   9wst|    3|\n",
      "|2017-09-08|   9wst|    3|\n",
      "|2017-08-09|   9wst|    3|\n",
      "|2017-09-01|   9wst|    3|\n",
      "|2017-08-18|   9wst|    3|\n",
      "|2017-09-17|   9wst|    3|\n",
      "|2017-08-12|   9wst|    3|\n",
      "|2016-10-18|   9wst|    3|\n",
      "|2016-10-31|   9wst|    3|\n",
      "+----------+-------+-----+\n",
      "only showing top 20 rows\n",
      "\n"
     ]
    }
   ],
   "source": [
    "#group by wthr_date and geohash\n",
    "df_joined.groupBy('wthr_date', 'geohash').count().where('count > 1').show()"
   ],
   "metadata": {
    "collapsed": false,
    "ExecuteTime": {
     "start_time": "2023-05-01T22:10:16.759191Z",
     "end_time": "2023-05-01T22:10:31.138659Z"
    }
   }
  },
  {
   "cell_type": "code",
   "execution_count": 89,
   "outputs": [
    {
     "name": "stdout",
     "output_type": "stream",
     "text": [
      "+-------+-----------+------------+------------------+-----------------------+-------+-------+------+--------+----------+----------+----------+\n",
      "|geohash|         id|franchise_id|    franchise_name|restaurant_franchise_id|country|   city|   lat|     lng|avg_tmpr_f|avg_tmpr_c| wthr_date|\n",
      "+-------+-----------+------------+------------------+-----------------------+-------+-------+------+--------+----------+----------+----------+\n",
      "|   9wst|34359738375|           8|   The Green Olive|                  50333|     US|Alamosa|37.471| -105.86|      62.2|      16.8|2017-08-21|\n",
      "|   9wst|17179869197|          14|The Gourmet Garden|                  10902|     US|Alamosa|37.481|-105.906|      62.2|      16.8|2017-08-21|\n",
      "|   9wst|25769803786|          11|   The Flaming Wok|                  72230|     US|Alamosa|37.475|-105.895|      62.2|      16.8|2017-08-21|\n",
      "+-------+-----------+------------+------------------+-----------------------+-------+-------+------+--------+----------+----------+----------+\n",
      "\n"
     ]
    }
   ],
   "source": [
    "#show where geohash equals 9wst and wthr_date equals 2017-08-21\n",
    "df_joined.where(df_joined['geohash'] == '9wst').where(df_joined['wthr_date'] == '2017-08-21').show()"
   ],
   "metadata": {
    "collapsed": false,
    "ExecuteTime": {
     "start_time": "2023-05-01T22:10:31.138659Z",
     "end_time": "2023-05-01T22:10:38.711032Z"
    }
   }
  },
  {
   "cell_type": "code",
   "execution_count": 90,
   "outputs": [
    {
     "name": "stdout",
     "output_type": "stream",
     "text": [
      "+-------+-----------+------------+--------------+-----------------------+-------+------+--------+---------+----------+----------+----------+\n",
      "|geohash|         id|franchise_id|franchise_name|restaurant_franchise_id|country|  city|     lat|      lng|avg_tmpr_f|avg_tmpr_c| wthr_date|\n",
      "+-------+-----------+------------+--------------+-----------------------+-------+------+--------+---------+----------+----------+----------+\n",
      "|   dnpe|85899345920|           1|       Savoria|                  18952|     US|Dillon|34.40141|-79.38644|      82.3|      27.9|2017-08-23|\n",
      "|   dnpe|85899345920|           1|       Savoria|                  18952|     US|Dillon|34.40141|-79.38644|      77.7|      25.4|2017-08-26|\n",
      "|   dnpe|85899345920|           1|       Savoria|                  18952|     US|Dillon|34.40141|-79.38644|      73.0|      22.8|2017-09-13|\n",
      "|   dnpe|85899345920|           1|       Savoria|                  18952|     US|Dillon|34.40141|-79.38644|      75.1|      23.9|2017-09-29|\n",
      "|   dnpe|85899345920|           1|       Savoria|                  18952|     US|Dillon|34.40141|-79.38644|      79.0|      26.1|2017-08-05|\n",
      "|   dnpe|85899345920|           1|       Savoria|                  18952|     US|Dillon|34.40141|-79.38644|      77.1|      25.1|2017-08-24|\n",
      "|   dnpe|85899345920|           1|       Savoria|                  18952|     US|Dillon|34.40141|-79.38644|      78.2|      25.7|2017-09-05|\n",
      "|   dnpe|85899345920|           1|       Savoria|                  18952|     US|Dillon|34.40141|-79.38644|      85.8|      29.9|2017-08-18|\n",
      "|   dnpe|85899345920|           1|       Savoria|                  18952|     US|Dillon|34.40141|-79.38644|      76.7|      24.8|2017-08-02|\n",
      "|   dnpe|85899345920|           1|       Savoria|                  18952|     US|Dillon|34.40141|-79.38644|      82.1|      27.8|2017-08-12|\n",
      "|   dnpe|85899345920|           1|       Savoria|                  18952|     US|Dillon|34.40141|-79.38644|      67.4|      19.7|2016-10-05|\n",
      "|   dnpe|85899345920|           1|       Savoria|                  18952|     US|Dillon|34.40141|-79.38644|      64.6|      18.1|2016-10-27|\n",
      "|   dnpe|85899345920|           1|       Savoria|                  18952|     US|Dillon|34.40141|-79.38644|      65.2|      18.4|2016-10-09|\n",
      "|   dnpe|85899345920|           1|       Savoria|                  18952|     US|Dillon|34.40141|-79.38644|      70.8|      21.6|2017-08-28|\n",
      "|   dnpe|85899345920|           1|       Savoria|                  18952|     US|Dillon|34.40141|-79.38644|      75.2|      24.0|2017-09-23|\n",
      "|   dnpe|85899345920|           1|       Savoria|                  18952|     US|Dillon|34.40141|-79.38644|      72.8|      22.7|2016-10-19|\n",
      "|   dnpe|85899345920|           1|       Savoria|                  18952|     US|Dillon|34.40141|-79.38644|      70.6|      21.4|2016-10-18|\n",
      "|   dnpe|85899345920|           1|       Savoria|                  18952|     US|Dillon|34.40141|-79.38644|      73.2|      22.9|2017-08-30|\n",
      "|   dnpe|85899345920|           1|       Savoria|                  18952|     US|Dillon|34.40141|-79.38644|      64.6|      18.1|2017-09-10|\n",
      "|   dnpe|85899345920|           1|       Savoria|                  18952|     US|Dillon|34.40141|-79.38644|      57.8|      14.3|2016-10-11|\n",
      "+-------+-----------+------------+--------------+-----------------------+-------+------+--------+---------+----------+----------+----------+\n",
      "only showing top 20 rows\n",
      "\n"
     ]
    }
   ],
   "source": [
    "#show where geohash equals dnpe\n",
    "df_joined.where(df_joined['geohash'] == 'dnpe').show()"
   ],
   "metadata": {
    "collapsed": false,
    "ExecuteTime": {
     "start_time": "2023-05-01T22:10:38.715037Z",
     "end_time": "2023-05-01T22:10:46.289907Z"
    }
   }
  },
  {
   "cell_type": "code",
   "execution_count": 91,
   "outputs": [
    {
     "data": {
      "text/plain": "184"
     },
     "execution_count": 91,
     "metadata": {},
     "output_type": "execute_result"
    }
   ],
   "source": [
    "df_joined.where(df_joined['geohash'] == 'dnpe').count()"
   ],
   "metadata": {
    "collapsed": false,
    "ExecuteTime": {
     "start_time": "2023-05-01T22:10:46.289907Z",
     "end_time": "2023-05-01T22:10:53.881733Z"
    }
   }
  },
  {
   "cell_type": "code",
   "execution_count": 93,
   "outputs": [],
   "source": [
    "#preserving data partitioning in the parquet format\n",
    "df_joined.write.partitionBy('franchise_name').parquet('final_partitioned_WITHOUT_DROPPING.parquet', mode='overwrite')"
   ],
   "metadata": {
    "collapsed": false,
    "ExecuteTime": {
     "start_time": "2023-05-01T22:14:01.935586Z",
     "end_time": "2023-05-01T22:14:23.845093Z"
    }
   }
  },
  {
   "cell_type": "code",
   "execution_count": 94,
   "outputs": [],
   "source": [
    "#drop rows where geohash and wthr_date together duplicate\n",
    "df_joined = df_joined.dropDuplicates(['wthr_date', 'geohash'])"
   ],
   "metadata": {
    "collapsed": false,
    "ExecuteTime": {
     "start_time": "2023-05-01T22:19:45.066815Z",
     "end_time": "2023-05-01T22:19:45.133850Z"
    }
   }
  },
  {
   "cell_type": "code",
   "execution_count": 95,
   "outputs": [
    {
     "data": {
      "text/plain": "62897"
     },
     "execution_count": 95,
     "metadata": {},
     "output_type": "execute_result"
    }
   ],
   "source": [
    "df_joined.count()"
   ],
   "metadata": {
    "collapsed": false,
    "ExecuteTime": {
     "start_time": "2023-05-01T22:19:45.936789Z",
     "end_time": "2023-05-01T22:20:05.055024Z"
    }
   }
  },
  {
   "cell_type": "code",
   "execution_count": 96,
   "outputs": [
    {
     "data": {
      "text/plain": "92"
     },
     "execution_count": 96,
     "metadata": {},
     "output_type": "execute_result"
    }
   ],
   "source": [
    "df_joined.where(df_joined['geohash'] == 'dnpe').count()"
   ],
   "metadata": {
    "collapsed": false,
    "ExecuteTime": {
     "start_time": "2023-05-01T22:20:05.062023Z",
     "end_time": "2023-05-01T22:20:12.747138Z"
    }
   }
  },
  {
   "cell_type": "code",
   "execution_count": 97,
   "outputs": [
    {
     "name": "stdout",
     "output_type": "stream",
     "text": [
      "+-------+-----------+------------+--------------+-----------------------+-------+------+--------+---------+----------+----------+----------+\n",
      "|geohash|         id|franchise_id|franchise_name|restaurant_franchise_id|country|  city|     lat|      lng|avg_tmpr_f|avg_tmpr_c| wthr_date|\n",
      "+-------+-----------+------------+--------------+-----------------------+-------+------+--------+---------+----------+----------+----------+\n",
      "|   dnpe|85899345920|           1|       Savoria|                  18952|     US|Dillon|34.40141|-79.38644|      71.7|      22.1|2016-10-01|\n",
      "|   dnpe|85899345920|           1|       Savoria|                  18952|     US|Dillon|34.40141|-79.38644|      70.0|      21.1|2016-10-02|\n",
      "|   dnpe|85899345920|           1|       Savoria|                  18952|     US|Dillon|34.40141|-79.38644|      70.2|      21.2|2016-10-03|\n",
      "|   dnpe|85899345920|           1|       Savoria|                  18952|     US|Dillon|34.40141|-79.38644|      68.9|      20.5|2016-10-04|\n",
      "|   dnpe|85899345920|           1|       Savoria|                  18952|     US|Dillon|34.40141|-79.38644|      67.4|      19.7|2016-10-05|\n",
      "|   dnpe|85899345920|           1|       Savoria|                  18952|     US|Dillon|34.40141|-79.38644|      68.1|      20.1|2016-10-06|\n",
      "|   dnpe|85899345920|           1|       Savoria|                  18952|     US|Dillon|34.40141|-79.38644|      73.9|      23.3|2016-10-07|\n",
      "|   dnpe|85899345920|           1|       Savoria|                  18952|     US|Dillon|34.40141|-79.38644|      69.5|      20.8|2016-10-08|\n",
      "|   dnpe|85899345920|           1|       Savoria|                  18952|     US|Dillon|34.40141|-79.38644|      65.2|      18.4|2016-10-09|\n",
      "|   dnpe|85899345920|           1|       Savoria|                  18952|     US|Dillon|34.40141|-79.38644|      58.3|      14.6|2016-10-10|\n",
      "|   dnpe|85899345920|           1|       Savoria|                  18952|     US|Dillon|34.40141|-79.38644|      57.8|      14.3|2016-10-11|\n",
      "|   dnpe|85899345920|           1|       Savoria|                  18952|     US|Dillon|34.40141|-79.38644|      63.2|      17.3|2016-10-12|\n",
      "|   dnpe|85899345920|           1|       Savoria|                  18952|     US|Dillon|34.40141|-79.38644|      65.7|      18.7|2016-10-13|\n",
      "|   dnpe|85899345920|           1|       Savoria|                  18952|     US|Dillon|34.40141|-79.38644|      65.7|      18.7|2016-10-14|\n",
      "|   dnpe|85899345920|           1|       Savoria|                  18952|     US|Dillon|34.40141|-79.38644|      64.1|      17.8|2016-10-15|\n",
      "|   dnpe|85899345920|           1|       Savoria|                  18952|     US|Dillon|34.40141|-79.38644|      65.9|      18.8|2016-10-16|\n",
      "|   dnpe|85899345920|           1|       Savoria|                  18952|     US|Dillon|34.40141|-79.38644|      68.6|      20.3|2016-10-17|\n",
      "|   dnpe|85899345920|           1|       Savoria|                  18952|     US|Dillon|34.40141|-79.38644|      70.6|      21.4|2016-10-18|\n",
      "|   dnpe|85899345920|           1|       Savoria|                  18952|     US|Dillon|34.40141|-79.38644|      72.8|      22.7|2016-10-19|\n",
      "|   dnpe|85899345920|           1|       Savoria|                  18952|     US|Dillon|34.40141|-79.38644|      71.4|      21.9|2016-10-20|\n",
      "+-------+-----------+------------+--------------+-----------------------+-------+------+--------+---------+----------+----------+----------+\n",
      "only showing top 20 rows\n",
      "\n"
     ]
    }
   ],
   "source": [
    "#show where geohash equals dnpe\n",
    "df_joined.where(df_joined['geohash'] == 'dnpe').show()"
   ],
   "metadata": {
    "collapsed": false,
    "ExecuteTime": {
     "start_time": "2023-05-01T22:20:12.751134Z",
     "end_time": "2023-05-01T22:20:32.983351Z"
    }
   }
  },
  {
   "cell_type": "code",
   "execution_count": 98,
   "outputs": [],
   "source": [
    "#preserving data partitioning in the parquet format.\n",
    "df_joined.write.partitionBy('city').parquet('final_partitioned_DROPPED_DUPLICATES.parquet', mode='overwrite')"
   ],
   "metadata": {
    "collapsed": false,
    "ExecuteTime": {
     "start_time": "2023-05-01T22:21:06.559738Z",
     "end_time": "2023-05-01T22:21:28.303512Z"
    }
   }
  },
  {
   "cell_type": "code",
   "execution_count": null,
   "outputs": [],
   "source": [],
   "metadata": {
    "collapsed": false
   }
  }
 ],
 "metadata": {
  "kernelspec": {
   "display_name": "Python 3",
   "language": "python",
   "name": "python3"
  },
  "language_info": {
   "codemirror_mode": {
    "name": "ipython",
    "version": 2
   },
   "file_extension": ".py",
   "mimetype": "text/x-python",
   "name": "python",
   "nbconvert_exporter": "python",
   "pygments_lexer": "ipython2",
   "version": "2.7.6"
  }
 },
 "nbformat": 4,
 "nbformat_minor": 0
}
